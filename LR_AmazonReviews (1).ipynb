{
 "cells": [
  {
   "cell_type": "code",
   "execution_count": 1,
   "metadata": {
    "colab": {
     "autoexec": {
      "startup": false,
      "wait_interval": 0
     },
     "base_uri": "https://localhost:8080/",
     "height": 105
    },
    "colab_type": "code",
    "executionInfo": {
     "elapsed": 2750,
     "status": "ok",
     "timestamp": 1529131783657,
     "user": {
      "displayName": "K V",
      "photoUrl": "https://lh3.googleusercontent.com/a/default-user=s128",
      "userId": "115566673853168956239"
     },
     "user_tz": -330
    },
    "id": "LQNE1EwcharS",
    "outputId": "2a39db09-efbe-47b8-d302-2ae2f754f8a4"
   },
   "outputs": [
    {
     "name": "stderr",
     "output_type": "stream",
     "text": [
      "/usr/local/lib/python3.6/dist-packages/sklearn/cross_validation.py:41: DeprecationWarning:\n",
      "\n",
      "This module was deprecated in version 0.18 in favor of the model_selection module into which all the refactored classes and functions are moved. Also note that the interface of the new CV iterators are different from that of this module. This module will be removed in 0.20.\n",
      "\n"
     ]
    }
   ],
   "source": [
    "import sqlite3 \n",
    "import pandas as pd \n",
    "import numpy as np \n",
    "import matplotlib.pyplot as plt\n",
    "import plotly.plotly as py\n",
    "import plotly.graph_objs as go\n",
    "from sklearn.cross_validation import train_test_split\n",
    "from sklearn.neighbors import KNeighborsClassifier\n",
    "from sklearn.metrics import accuracy_score\n",
    "from sklearn.cross_validation import cross_val_score\n",
    "from collections import Counter\n",
    "from sklearn.metrics import accuracy_score\n",
    "from sklearn import cross_validation\n",
    "from sklearn.feature_extraction.text import TfidfTransformer\n",
    "from sklearn.feature_extraction.text import TfidfVectorizer\n",
    "from sklearn.feature_extraction.text import CountVectorizer \n",
    "from sklearn.metrics import confusion_matrix \n",
    "from sklearn import metrics \n",
    "from sklearn.metrics import roc_curve, auc \n",
    "from nltk.stem.porter import PorterStemmer\n",
    "from sklearn.decomposition import TruncatedSVD\n",
    "from sklearn.model_selection import TimeSeriesSplit\n",
    "from sklearn.model_selection import GridSearchCV\n",
    "from sklearn.linear_model import LogisticRegression"
   ]
  },
  {
   "cell_type": "markdown",
   "metadata": {
    "colab_type": "text",
    "id": "gQUYj9q-Tc18"
   },
   "source": [
    "# Loading and Sampling the dataset(100k data-points)"
   ]
  },
  {
   "cell_type": "code",
   "execution_count": 0,
   "metadata": {
    "colab": {
     "autoexec": {
      "startup": false,
      "wait_interval": 0
     }
    },
    "colab_type": "code",
    "collapsed": true,
    "id": "IdWOOwZYObuz"
   },
   "outputs": [],
   "source": [
    "final = pd.read_csv(\"final.csv\")\n",
    "\n",
    "\n",
    "final_data = final.sample(n = 100000)\n",
    "\n",
    "final_data = final_data.drop([\"Text\"], axis = 1)\n",
    "final_data = final_data.drop(final_data.columns[0], axis = 1)"
   ]
  },
  {
   "cell_type": "code",
   "execution_count": 0,
   "metadata": {
    "colab": {
     "autoexec": {
      "startup": false,
      "wait_interval": 0
     },
     "base_uri": "https://localhost:8080/",
     "height": 34
    },
    "colab_type": "code",
    "executionInfo": {
     "elapsed": 834,
     "status": "ok",
     "timestamp": 1529126865814,
     "user": {
      "displayName": "K V",
      "photoUrl": "https://lh3.googleusercontent.com/a/default-user=s128",
      "userId": "115566673853168956239"
     },
     "user_tz": -330
    },
    "id": "P0aIjn7piUk2",
    "outputId": "53225a27-53bd-4fc6-a303-82e4148e624a"
   },
   "outputs": [
    {
     "data": {
      "text/plain": [
       "(100000, 10)"
      ]
     },
     "execution_count": 5,
     "metadata": {
      "tags": []
     },
     "output_type": "execute_result"
    }
   ],
   "source": [
    "labels = final_data.Score\n",
    "final_data = final_data.sort_values(\"Time\")\n",
    "final_data.shape"
   ]
  },
  {
   "cell_type": "markdown",
   "metadata": {
    "colab_type": "text",
    "id": "0eBhjejHTlUv"
   },
   "source": [
    "# Train/Test Split"
   ]
  },
  {
   "cell_type": "code",
   "execution_count": 0,
   "metadata": {
    "colab": {
     "autoexec": {
      "startup": false,
      "wait_interval": 0
     }
    },
    "colab_type": "code",
    "collapsed": true,
    "id": "9f1InVHWiWyf"
   },
   "outputs": [],
   "source": [
    "n = final_data.shape[0]\n",
    "train_size = 0.7\n",
    "\n",
    "train_set = final_data.iloc[:int(n*train_size)]\n",
    "test_set =final_data.iloc[int(n*train_size):]\n",
    "\n",
    "X_train = train_set.CleanedText\n",
    "y_train = train_set.Score\n",
    "\n",
    "X_test = test_set.CleanedText\n",
    "y_test= test_set.Score"
   ]
  },
  {
   "cell_type": "code",
   "execution_count": 0,
   "metadata": {
    "colab": {
     "autoexec": {
      "startup": false,
      "wait_interval": 0
     }
    },
    "colab_type": "code",
    "collapsed": true,
    "id": "8D9DwibSjLAX"
   },
   "outputs": [],
   "source": [
    "## tokenizing the training data to find frequency of words\n",
    "t = []\n",
    "for line in X_train:\n",
    "    l = nltk.word_tokenize(line)\n",
    "    for w in l:\n",
    "        t.append(w)"
   ]
  },
  {
   "cell_type": "code",
   "execution_count": 0,
   "metadata": {
    "colab": {
     "autoexec": {
      "startup": false,
      "wait_interval": 0
     },
     "base_uri": "https://localhost:8080/",
     "height": 34
    },
    "colab_type": "code",
    "executionInfo": {
     "elapsed": 3599,
     "status": "ok",
     "timestamp": 1529126942836,
     "user": {
      "displayName": "K V",
      "photoUrl": "https://lh3.googleusercontent.com/a/default-user=s128",
      "userId": "115566673853168956239"
     },
     "user_tz": -330
    },
    "id": "YNKRkZW0JBKj",
    "outputId": "f57f010c-a39a-448d-b0d3-05aced9b35c6"
   },
   "outputs": [
    {
     "name": "stdout",
     "output_type": "stream",
     "text": [
      "36299\n"
     ]
    }
   ],
   "source": [
    "word_features = nltk.FreqDist(t)\n",
    "print (len(word_features))"
   ]
  },
  {
   "cell_type": "markdown",
   "metadata": {
    "colab_type": "text",
    "id": "N4uXGOguJX2m"
   },
   "source": [
    "# Feature Selection"
   ]
  },
  {
   "cell_type": "code",
   "execution_count": 0,
   "metadata": {
    "colab": {
     "autoexec": {
      "startup": false,
      "wait_interval": 0
     },
     "base_uri": "https://localhost:8080/",
     "height": 54
    },
    "colab_type": "code",
    "executionInfo": {
     "elapsed": 926,
     "status": "ok",
     "timestamp": 1529126948563,
     "user": {
      "displayName": "K V",
      "photoUrl": "https://lh3.googleusercontent.com/a/default-user=s128",
      "userId": "115566673853168956239"
     },
     "user_tz": -330
    },
    "id": "z7XaHRVpJA-T",
    "outputId": "218d184c-4c47-4338-8a10-c17dedd8bd28"
   },
   "outputs": [
    {
     "name": "stdout",
     "output_type": "stream",
     "text": [
      "[(\"'\", 69999), ('like', 30800), ('tast', 30378), ('flavor', 24481), ('good', 23182), ('one', 21533), ('product', 20781), ('use', 20744), ('tea', 19030), ('great', 19021), ('tri', 18764), ('love', 18374), ('coffe', 17075), ('get', 16219), ('make', 16114), ('food', 14288), ('would', 13576), ('buy', 12549), ('time', 12343), ('amazon', 11952), ('eat', 11543), ('realli', 10904), ('price', 10670), ('much', 10596), ('find', 10563)]\n"
     ]
    }
   ],
   "source": [
    "#The most frequent 5000 features as the featureset\n",
    "\n",
    "topwords = [fpair[0] for fpair in list(word_features.most_common(5000))]\n",
    "print (word_features.most_common(25))"
   ]
  },
  {
   "cell_type": "code",
   "execution_count": 0,
   "metadata": {
    "colab": {
     "autoexec": {
      "startup": false,
      "wait_interval": 0
     }
    },
    "colab_type": "code",
    "collapsed": true,
    "id": "Mlr9iNe5JcfV"
   },
   "outputs": [],
   "source": [
    "word_plot = pd.DataFrame(word_features.most_common(25),columns=['Word','Count'])"
   ]
  },
  {
   "cell_type": "code",
   "execution_count": 0,
   "metadata": {
    "colab": {
     "autoexec": {
      "startup": false,
      "wait_interval": 0
     },
     "base_uri": "https://localhost:8080/",
     "height": 442
    },
    "colab_type": "code",
    "executionInfo": {
     "elapsed": 820,
     "status": "ok",
     "timestamp": 1529126982788,
     "user": {
      "displayName": "K V",
      "photoUrl": "https://lh3.googleusercontent.com/a/default-user=s128",
      "userId": "115566673853168956239"
     },
     "user_tz": -330
    },
    "id": "57VFlSbqJcYa",
    "outputId": "6c04bbf7-d6df-4132-b72e-9715909383c5"
   },
   "outputs": [
    {
     "name": "stdout",
     "output_type": "stream",
     "text": [
      "       Word  Count\n",
      "1      like  30800\n",
      "2      tast  30378\n",
      "3    flavor  24481\n",
      "4      good  23182\n",
      "5       one  21533\n",
      "6   product  20781\n",
      "7       use  20744\n",
      "8       tea  19030\n",
      "9     great  19021\n",
      "10      tri  18764\n",
      "11     love  18374\n",
      "12    coffe  17075\n",
      "13      get  16219\n",
      "14     make  16114\n",
      "15     food  14288\n",
      "16    would  13576\n",
      "17      buy  12549\n",
      "18     time  12343\n",
      "19   amazon  11952\n",
      "20      eat  11543\n",
      "21   realli  10904\n",
      "22    price  10670\n",
      "23     much  10596\n",
      "24     find  10563\n"
     ]
    }
   ],
   "source": [
    "print(word_plot)"
   ]
  },
  {
   "cell_type": "code",
   "execution_count": 0,
   "metadata": {
    "colab": {
     "autoexec": {
      "startup": false,
      "wait_interval": 0
     },
     "base_uri": "https://localhost:8080/",
     "height": 445
    },
    "colab_type": "code",
    "executionInfo": {
     "elapsed": 859,
     "status": "ok",
     "timestamp": 1529126989598,
     "user": {
      "displayName": "K V",
      "photoUrl": "https://lh3.googleusercontent.com/a/default-user=s128",
      "userId": "115566673853168956239"
     },
     "user_tz": -330
    },
    "id": "NUTdfFzZJcRd",
    "outputId": "03252bf0-edc0-43bd-ef11-2f25bdbe45fa"
   },
   "outputs": [
    {
     "data": {
      "text/plain": [
       "<matplotlib.axes._subplots.AxesSubplot at 0x7fccc3566c50>"
      ]
     },
     "execution_count": 15,
     "metadata": {
      "tags": []
     },
     "output_type": "execute_result"
    },
    {
     "data": {
      "image/png": "[encoded data removed]",
      "text/plain": [
       "<matplotlib.figure.Figure at 0x7fccc356f4e0>"
      ]
     },
     "metadata": {
      "tags": []
     },
     "output_type": "display_data"
    }
   ],
   "source": [
    "word_plot.plot(kind='bar',x=word_plot['Word'],legend=False,title='Most frequent words',figsize=(10,6), color = '#e67e22')"
   ]
  },
  {
   "cell_type": "markdown",
   "metadata": {
    "colab_type": "text",
    "id": "yPIM1WADLq3Y"
   },
   "source": [
    "## We can observe from the above plot that the most important words are:\n",
    "- **like**\n",
    "- **taste**\n",
    "- **flavour**"
   ]
  },
  {
   "cell_type": "markdown",
   "metadata": {
    "colab_type": "text",
    "id": "VuiJgOvQTxc6"
   },
   "source": [
    "# Bag of words Vectorization"
   ]
  },
  {
   "cell_type": "code",
   "execution_count": 0,
   "metadata": {
    "colab": {
     "autoexec": {
      "startup": false,
      "wait_interval": 0
     }
    },
    "colab_type": "code",
    "collapsed": true,
    "id": "7d13zyYqjRcs"
   },
   "outputs": [],
   "source": [
    "count_vect = CountVectorizer() #in scikit-learn\n",
    "X_train1 = count_vect.fit_transform(X_train)\n",
    "X_test1 = count_vect.transform(X_test)"
   ]
  },
  {
   "cell_type": "code",
   "execution_count": 0,
   "metadata": {
    "colab": {
     "autoexec": {
      "startup": false,
      "wait_interval": 0
     },
     "base_uri": "https://localhost:8080/",
     "height": 85
    },
    "colab_type": "code",
    "executionInfo": {
     "elapsed": 855,
     "status": "ok",
     "timestamp": 1529127034581,
     "user": {
      "displayName": "K V",
      "photoUrl": "https://lh3.googleusercontent.com/a/default-user=s128",
      "userId": "115566673853168956239"
     },
     "user_tz": -330
    },
    "id": "MidjVMvOjSdT",
    "outputId": "97842e5c-09fa-4757-bb4b-681da03d68ab"
   },
   "outputs": [
    {
     "name": "stderr",
     "output_type": "stream",
     "text": [
      "/usr/local/lib/python3.6/dist-packages/sklearn/utils/validation.py:475: DataConversionWarning:\n",
      "\n",
      "Data with input dtype int64 was converted to float64 by StandardScaler.\n",
      "\n"
     ]
    }
   ],
   "source": [
    "#Standardization\n",
    "from sklearn.preprocessing import StandardScaler\n",
    "sc= StandardScaler(with_mean=False) \n",
    "X_train1 = sc.fit_transform(X_train1)\n",
    "X_test1 = sc.transform(X_test1)\n"
   ]
  },
  {
   "cell_type": "markdown",
   "metadata": {
    "colab_type": "text",
    "id": "KFIKr-pbT28G"
   },
   "source": [
    "# GridSearch Cross-Validation"
   ]
  },
  {
   "cell_type": "code",
   "execution_count": 0,
   "metadata": {
    "colab": {
     "autoexec": {
      "startup": false,
      "wait_interval": 0
     },
     "base_uri": "https://localhost:8080/",
     "height": 207
    },
    "colab_type": "code",
    "executionInfo": {
     "elapsed": 400832,
     "status": "ok",
     "timestamp": 1529127439212,
     "user": {
      "displayName": "K V",
      "photoUrl": "https://lh3.googleusercontent.com/a/default-user=s128",
      "userId": "115566673853168956239"
     },
     "user_tz": -330
    },
    "id": "RuECRCK8jnqQ",
    "outputId": "6d6bf99d-c94f-432a-aeaa-a949f1a1a46a"
   },
   "outputs": [
    {
     "data": {
      "text/plain": [
       "GridSearchCV(cv=[(array([   0,    1, ..., 6368, 6369]), array([ 6370,  6371, ..., 12731, 12732])), (array([    0,     1, ..., 12731, 12732]), array([12733, 12734, ..., 19094, 19095])), (array([    0,     1, ..., 19094, 19095]), array([19096, 19097, ..., 25457, 25458])), (array([    0,     1, ..., 25457, 25458]),...635, 63636])), (array([    0,     1, ..., 63635, 63636]), array([63637, 63638, ..., 69998, 69999]))],\n",
       "       error_score='raise',\n",
       "       estimator=LogisticRegression(C=1.0, class_weight=None, dual=False, fit_intercept=True,\n",
       "          intercept_scaling=1, max_iter=100, multi_class='ovr', n_jobs=1,\n",
       "          penalty='l2', random_state=None, solver='liblinear', tol=0.0001,\n",
       "          verbose=0, warm_start=False),\n",
       "       fit_params=None, iid=True, n_jobs=1,\n",
       "       param_grid={'C': [0.001, 0.01, 0.1, 1, 10]},\n",
       "       pre_dispatch='2*n_jobs', refit=True, return_train_score='warn',\n",
       "       scoring=None, verbose=0)"
      ]
     },
     "execution_count": 18,
     "metadata": {
      "tags": []
     },
     "output_type": "execute_result"
    }
   ],
   "source": [
    "my_cv = [(train,test) for train, test in TimeSeriesSplit(n_splits=10).split(X_train1)]\n",
    "\n",
    "param_grid  = {'C': [0.001, 0.01, 0.1, 1, 10]}\n",
    "\n",
    "grid = GridSearchCV(LogisticRegression(), param_grid, cv=my_cv)\n",
    "grid.fit(X_train1, y_train)"
   ]
  },
  {
   "cell_type": "code",
   "execution_count": 0,
   "metadata": {
    "colab": {
     "autoexec": {
      "startup": false,
      "wait_interval": 0
     },
     "base_uri": "https://localhost:8080/",
     "height": 51
    },
    "colab_type": "code",
    "executionInfo": {
     "elapsed": 960,
     "status": "ok",
     "timestamp": 1529127461418,
     "user": {
      "displayName": "K V",
      "photoUrl": "https://lh3.googleusercontent.com/a/default-user=s128",
      "userId": "115566673853168956239"
     },
     "user_tz": -330
    },
    "id": "8vFdUWDAPKxT",
    "outputId": "9848f531-8afb-4bc4-df8b-1fa60e11c93a"
   },
   "outputs": [
    {
     "name": "stdout",
     "output_type": "stream",
     "text": [
      "Best cross-validation score: 0.899\n",
      "Best parameters:  {'C': 0.001}\n"
     ]
    }
   ],
   "source": [
    "print(\"Best cross-validation score: {:.3f}\".format(grid.best_score_))\n",
    "print(\"Best parameters: \", grid.best_params_)"
   ]
  },
  {
   "cell_type": "markdown",
   "metadata": {
    "colab_type": "text",
    "id": "8cHbv9_cT9rA"
   },
   "source": [
    "# RandomizedSearch Cross-Validation"
   ]
  },
  {
   "cell_type": "code",
   "execution_count": 0,
   "metadata": {
    "colab": {
     "autoexec": {
      "startup": false,
      "wait_interval": 0
     },
     "base_uri": "https://localhost:8080/",
     "height": 207
    },
    "colab_type": "code",
    "executionInfo": {
     "elapsed": 1735559,
     "status": "ok",
     "timestamp": 1529129210898,
     "user": {
      "displayName": "K V",
      "photoUrl": "https://lh3.googleusercontent.com/a/default-user=s128",
      "userId": "115566673853168956239"
     },
     "user_tz": -330
    },
    "id": "lMdSEa6FS06m",
    "outputId": "12ea88aa-cdde-46b6-dd95-0301f4b56e76"
   },
   "outputs": [
    {
     "data": {
      "text/plain": [
       "RandomizedSearchCV(cv=[(array([   0,    1, ..., 6368, 6369]), array([ 6370,  6371, ..., 12731, 12732])), (array([    0,     1, ..., 12731, 12732]), array([12733, 12734, ..., 19094, 19095])), (array([    0,     1, ..., 19094, 19095]), array([19096, 19097, ..., 25457, 25458])), (array([    0,     1, ..., 25457, 25458]),...635, 63636])), (array([    0,     1, ..., 63635, 63636]), array([63637, 63638, ..., 69998, 69999]))],\n",
       "          error_score='raise',\n",
       "          estimator=LogisticRegression(C=1.0, class_weight=None, dual=False, fit_intercept=True,\n",
       "          intercept_scaling=1, max_iter=100, multi_class='ovr', n_jobs=1,\n",
       "          penalty='l2', random_state=None, solver='liblinear', tol=0.0001,\n",
       "          verbose=0, warm_start=False),\n",
       "          fit_params=None, iid=True, n_iter=10, n_jobs=1,\n",
       "          param_distributions={'C': <scipy.stats._distn_infrastructure.rv_frozen object at 0x7fccc10bfcf8>},\n",
       "          pre_dispatch='2*n_jobs', random_state=None, refit=True,\n",
       "          return_train_score='warn', scoring=None, verbose=0)"
      ]
     },
     "execution_count": 20,
     "metadata": {
      "tags": []
     },
     "output_type": "execute_result"
    }
   ],
   "source": [
    "from sklearn.model_selection import RandomizedSearchCV\n",
    "from scipy import stats\n",
    "\n",
    "\n",
    "my_cv = [(train,test) for train, test in TimeSeriesSplit(n_splits=10).split(X_train1)]\n",
    "\n",
    "param_grid  = {\"C\": stats.uniform(0.001, 10)}\n",
    "             \n",
    "\n",
    "grid =  RandomizedSearchCV(LogisticRegression(), param_grid, cv=my_cv, n_iter = 10)\n",
    "grid.fit(X_train1, y_train)"
   ]
  },
  {
   "cell_type": "code",
   "execution_count": 0,
   "metadata": {
    "colab": {
     "autoexec": {
      "startup": false,
      "wait_interval": 0
     },
     "base_uri": "https://localhost:8080/",
     "height": 51
    },
    "colab_type": "code",
    "executionInfo": {
     "elapsed": 868,
     "status": "ok",
     "timestamp": 1529129225742,
     "user": {
      "displayName": "K V",
      "photoUrl": "https://lh3.googleusercontent.com/a/default-user=s128",
      "userId": "115566673853168956239"
     },
     "user_tz": -330
    },
    "id": "A5VCY1UqTDnf",
    "outputId": "720c1759-83c2-47d9-a4a7-a033debd35a4"
   },
   "outputs": [
    {
     "name": "stdout",
     "output_type": "stream",
     "text": [
      "Best cross-validation score: 0.869\n",
      "Best parameters:  {'C': 0.6203520096925298}\n"
     ]
    }
   ],
   "source": [
    "print(\"Best cross-validation score: {:.3f}\".format(grid.best_score_))\n",
    "print(\"Best parameters: \", grid.best_params_)"
   ]
  },
  {
   "cell_type": "markdown",
   "metadata": {
    "colab_type": "text",
    "id": "OwGwNPhyUdQ5"
   },
   "source": [
    "# Applying Logistic Regression"
   ]
  },
  {
   "cell_type": "code",
   "execution_count": 0,
   "metadata": {
    "colab": {
     "autoexec": {
      "startup": false,
      "wait_interval": 0
     },
     "base_uri": "https://localhost:8080/",
     "height": 51
    },
    "colab_type": "code",
    "executionInfo": {
     "elapsed": 5078,
     "status": "ok",
     "timestamp": 1529129238586,
     "user": {
      "displayName": "K V",
      "photoUrl": "https://lh3.googleusercontent.com/a/default-user=s128",
      "userId": "115566673853168956239"
     },
     "user_tz": -330
    },
    "id": "K4TZ-nNPj-mg",
    "outputId": "86f8d95a-74d8-4827-a3b5-e566dba0aa67"
   },
   "outputs": [
    {
     "name": "stdout",
     "output_type": "stream",
     "text": [
      "Training set score: 0.970\n",
      "Test set score: 0.901\n"
     ]
    }
   ],
   "source": [
    "logreg = LogisticRegression(C = 0.001).fit(X_train1, y_train)\n",
    "\n",
    "\n",
    "print(\"Training set score: {:.3f}\".format(logreg.score(X_train1, y_train)))\n",
    "print(\"Test set score: {:.3f}\".format(logreg.score(X_test1, y_test)))"
   ]
  },
  {
   "cell_type": "markdown",
   "metadata": {
    "colab_type": "text",
    "id": "eiKoWviMUz8C"
   },
   "source": [
    "# Generating a Confusion matrix"
   ]
  },
  {
   "cell_type": "code",
   "execution_count": 0,
   "metadata": {
    "colab": {
     "autoexec": {
      "startup": false,
      "wait_interval": 0
     }
    },
    "colab_type": "code",
    "collapsed": true,
    "id": "WQdx_2ExQ3LK"
   },
   "outputs": [],
   "source": [
    "y_pred = logreg.predict(X_test1)\n",
    "\n",
    "log_cfm = confusion_matrix(y_test, y_pred)"
   ]
  },
  {
   "cell_type": "code",
   "execution_count": 0,
   "metadata": {
    "colab": {
     "autoexec": {
      "startup": false,
      "wait_interval": 0
     },
     "base_uri": "https://localhost:8080/",
     "height": 376
    },
    "colab_type": "code",
    "executionInfo": {
     "elapsed": 1118,
     "status": "ok",
     "timestamp": 1529129254117,
     "user": {
      "displayName": "K V",
      "photoUrl": "https://lh3.googleusercontent.com/a/default-user=s128",
      "userId": "115566673853168956239"
     },
     "user_tz": -330
    },
    "id": "VkN0e50GQ9nw",
    "outputId": "fb22d0e2-a321-43f6-b3b4-33571fa2b208"
   },
   "outputs": [
    {
     "data": {
      "image/png": "[encoded data removed]",
      "text/plain": [
       "<matplotlib.figure.Figure at 0x7fccc356fef0>"
      ]
     },
     "metadata": {
      "tags": []
     },
     "output_type": "display_data"
    }
   ],
   "source": [
    "import itertools    \n",
    "\n",
    "plt.imshow(log_cfm, interpolation='nearest')\n",
    "\n",
    "for i, j in itertools.product(range(log_cfm.shape[0]), range(log_cfm.shape[1])):\n",
    "    plt.text(j, i, log_cfm[i, j],\n",
    "             horizontalalignment=\"center\",\n",
    "             color=\"red\")\n",
    "\n",
    "plt.ylabel('True label (Recall)')\n",
    "plt.xlabel('Predicted label (Precision)')\n",
    "plt.title('Logistic Reg | Confusion Matrix')\n",
    "plt.colorbar();"
   ]
  },
  {
   "cell_type": "markdown",
   "metadata": {
    "colab_type": "text",
    "id": "7cN81w-CU7LP"
   },
   "source": [
    "# Comparing 'L1' and 'L2' regularization techniques"
   ]
  },
  {
   "cell_type": "code",
   "execution_count": 0,
   "metadata": {
    "colab": {
     "autoexec": {
      "startup": false,
      "wait_interval": 0
     },
     "base_uri": "https://localhost:8080/",
     "height": 357
    },
    "colab_type": "code",
    "executionInfo": {
     "elapsed": 31266,
     "status": "ok",
     "timestamp": 1529129299000,
     "user": {
      "displayName": "K V",
      "photoUrl": "https://lh3.googleusercontent.com/a/default-user=s128",
      "userId": "115566673853168956239"
     },
     "user_tz": -330
    },
    "id": "asb1ktXrSNS1",
    "outputId": "01bc449b-d465-4a25-9a2b-85acf8bc6eba"
   },
   "outputs": [
    {
     "name": "stdout",
     "output_type": "stream",
     "text": [
      "C=0.001\n",
      "Sparsity with L1 penalty: 99.759%\n",
      "score with L1 penalty: 0.8743\n",
      "Sparsity with L2 penalty: 0.000%\n",
      "score with L2 penalty: 0.9695\n",
      "C=0.010\n",
      "Sparsity with L1 penalty: 88.691%\n",
      "score with L1 penalty: 0.9404\n",
      "Sparsity with L2 penalty: 0.000%\n",
      "score with L2 penalty: 0.9805\n",
      "C=0.100\n",
      "Sparsity with L1 penalty: 65.301%\n",
      "score with L1 penalty: 0.9767\n",
      "Sparsity with L2 penalty: 0.000%\n",
      "score with L2 penalty: 0.9856\n",
      "C=1.000\n",
      "Sparsity with L1 penalty: 52.631%\n",
      "score with L1 penalty: 0.9848\n",
      "Sparsity with L2 penalty: 0.000%\n",
      "score with L2 penalty: 0.9872\n"
     ]
    }
   ],
   "source": [
    "for i, C in enumerate((0.001, 0.01, 0.1, 1)):\n",
    "    # turn down tolerance for short training time\n",
    "    clf_l1_LR = LogisticRegression(C=C, penalty='l1', tol=0.01)\n",
    "    clf_l2_LR = LogisticRegression(C=C, penalty='l2', tol=0.01)\n",
    "    clf_l1_LR.fit(X_train1, y_train)\n",
    "    clf_l2_LR.fit(X_train1, y_train)\n",
    "\n",
    "    coef_l1_LR = clf_l1_LR.coef_.ravel()\n",
    "    coef_l2_LR = clf_l2_LR.coef_.ravel()\n",
    "\n",
    "    # coef_l1_LR contains zeros due to the\n",
    "    # L1 sparsity inducing norm\n",
    "\n",
    "    sparsity_l1_LR = np.mean(coef_l1_LR == 0) * 100\n",
    "    sparsity_l2_LR = np.mean(coef_l2_LR == 0) * 100\n",
    "\n",
    "    print(\"C=%.3f\" % C)\n",
    "    print(\"Sparsity with L1 penalty: %.3f%%\" % sparsity_l1_LR)\n",
    "    print(\"score with L1 penalty: %.4f\" % clf_l1_LR.score(X_train1, y_train))\n",
    "    print(\"Sparsity with L2 penalty: %.3f%%\" % sparsity_l2_LR)\n",
    "    print(\"score with L2 penalty: %.4f\" % clf_l2_LR.score(X_train1, y_train))\n",
    "\n"
   ]
  },
  {
   "cell_type": "markdown",
   "metadata": {
    "colab_type": "text",
    "id": "D_Ekaff7VFFS"
   },
   "source": [
    "|| Hyper-parameter| Sparsity | Score |\n",
    "|---| --- | --- | --- |\n",
    "|L1-regularizer| 0.001 | 99.7 % |0 .87 |\n",
    "|L2-regularizer| 0.001 | 0 % | 0.96|\n",
    "| --- | --- | --- | --- |\n",
    "|L1-regularizer| 0.01 | 88.6% |0 .94 |\n",
    "|L2-regularizer| 0.01 | 0 % | 0.98|\n",
    "| --- | --- | --- | --- |\n",
    "|L1-regularizer| 0.1| 65.3% | 0.97 |\n",
    "|L2-regularizer| 0.1 | 0 % | 0.98|\n",
    "| --- | --- | --- | --- |\n",
    "|L1-regularizer| 1.0| 52.6% | 0.98 |\n",
    "|L2-regularizer| 1.0 | 0 % | 0.98|\n"
   ]
  },
  {
   "cell_type": "markdown",
   "metadata": {
    "colab_type": "text",
    "id": "OOAIAHFoyys4"
   },
   "source": [
    "# TF-idf Vectorization"
   ]
  },
  {
   "cell_type": "code",
   "execution_count": 0,
   "metadata": {
    "colab": {
     "autoexec": {
      "startup": false,
      "wait_interval": 0
     }
    },
    "colab_type": "code",
    "collapsed": true,
    "id": "K0qIljUay0sB"
   },
   "outputs": [],
   "source": [
    "#TF-IDF\n",
    "tf_idf_vect = TfidfVectorizer(ngram_range=(1,2))\n",
    "X_train2 = tf_idf_vect.fit_transform(X_train)\n",
    "X_test2 = tf_idf_vect.transform(X_test)"
   ]
  },
  {
   "cell_type": "code",
   "execution_count": 0,
   "metadata": {
    "colab": {
     "autoexec": {
      "startup": false,
      "wait_interval": 0
     }
    },
    "colab_type": "code",
    "collapsed": true,
    "id": "Ee3fJVoKy5y3"
   },
   "outputs": [],
   "source": [
    "#Standardization\n",
    "from sklearn.preprocessing import StandardScaler\n",
    "sc= StandardScaler(with_mean=False) \n",
    "X_train2 = sc.fit_transform(X_train2)\n",
    "X_test2 = sc.transform(X_test2)"
   ]
  },
  {
   "cell_type": "markdown",
   "metadata": {
    "colab_type": "text",
    "id": "9qbhsS6UXusM"
   },
   "source": [
    "# Applying GridSearch CV"
   ]
  },
  {
   "cell_type": "code",
   "execution_count": 0,
   "metadata": {
    "colab": {
     "autoexec": {
      "startup": false,
      "wait_interval": 0
     },
     "base_uri": "https://localhost:8080/",
     "height": 207
    },
    "colab_type": "code",
    "executionInfo": {
     "elapsed": 621113,
     "status": "ok",
     "timestamp": 1529129949322,
     "user": {
      "displayName": "K V",
      "photoUrl": "https://lh3.googleusercontent.com/a/default-user=s128",
      "userId": "115566673853168956239"
     },
     "user_tz": -330
    },
    "id": "g6fK5prly9mj",
    "outputId": "6e29c33a-95c6-4613-8d8c-0da19eed1e78"
   },
   "outputs": [
    {
     "data": {
      "text/plain": [
       "GridSearchCV(cv=[(array([   0,    1, ..., 6368, 6369]), array([ 6370,  6371, ..., 12731, 12732])), (array([    0,     1, ..., 12731, 12732]), array([12733, 12734, ..., 19094, 19095])), (array([    0,     1, ..., 19094, 19095]), array([19096, 19097, ..., 25457, 25458])), (array([    0,     1, ..., 25457, 25458]),...635, 63636])), (array([    0,     1, ..., 63635, 63636]), array([63637, 63638, ..., 69998, 69999]))],\n",
       "       error_score='raise',\n",
       "       estimator=LogisticRegression(C=1.0, class_weight=None, dual=False, fit_intercept=True,\n",
       "          intercept_scaling=1, max_iter=100, multi_class='ovr', n_jobs=1,\n",
       "          penalty='l2', random_state=None, solver='liblinear', tol=0.0001,\n",
       "          verbose=0, warm_start=False),\n",
       "       fit_params=None, iid=True, n_jobs=1,\n",
       "       param_grid={'C': [0.001, 0.01, 0.1, 1, 10]},\n",
       "       pre_dispatch='2*n_jobs', refit=True, return_train_score='warn',\n",
       "       scoring=None, verbose=0)"
      ]
     },
     "execution_count": 28,
     "metadata": {
      "tags": []
     },
     "output_type": "execute_result"
    }
   ],
   "source": [
    "my_cv = [(train,test) for train, test in TimeSeriesSplit(n_splits=10).split(X_train2)]\n",
    "\n",
    "param_grid  = {'C': [0.001, 0.01, 0.1, 1, 10]}\n",
    "\n",
    "grid = GridSearchCV(LogisticRegression(), param_grid, cv=my_cv)\n",
    "grid.fit(X_train2, y_train)"
   ]
  },
  {
   "cell_type": "code",
   "execution_count": 0,
   "metadata": {
    "colab": {
     "autoexec": {
      "startup": false,
      "wait_interval": 0
     },
     "base_uri": "https://localhost:8080/",
     "height": 51
    },
    "colab_type": "code",
    "executionInfo": {
     "elapsed": 819,
     "status": "ok",
     "timestamp": 1529129956830,
     "user": {
      "displayName": "K V",
      "photoUrl": "https://lh3.googleusercontent.com/a/default-user=s128",
      "userId": "115566673853168956239"
     },
     "user_tz": -330
    },
    "id": "H_RIQnlxzGOM",
    "outputId": "8bc23676-e7aa-4d8d-cf54-b95b91621ea4"
   },
   "outputs": [
    {
     "name": "stdout",
     "output_type": "stream",
     "text": [
      "Best cross-validation score: 0.857\n",
      "Best parameters:  {'C': 10}\n"
     ]
    }
   ],
   "source": [
    "print(\"Best cross-validation score: {:.3f}\".format(grid.best_score_))\n",
    "print(\"Best parameters: \", grid.best_params_)"
   ]
  },
  {
   "cell_type": "markdown",
   "metadata": {
    "colab_type": "text",
    "id": "0GIBYKeEX19Q"
   },
   "source": [
    "# Applying RandomizedSearch CV"
   ]
  },
  {
   "cell_type": "code",
   "execution_count": 0,
   "metadata": {
    "colab": {
     "autoexec": {
      "startup": false,
      "wait_interval": 0
     },
     "base_uri": "https://localhost:8080/",
     "height": 207
    },
    "colab_type": "code",
    "executionInfo": {
     "elapsed": 167875,
     "status": "ok",
     "timestamp": 1529130142420,
     "user": {
      "displayName": "K V",
      "photoUrl": "https://lh3.googleusercontent.com/a/default-user=s128",
      "userId": "115566673853168956239"
     },
     "user_tz": -330
    },
    "id": "BhMelcXTzy5O",
    "outputId": "5995ba0e-5bd5-41c4-bfa2-80e3a0a8d98d"
   },
   "outputs": [
    {
     "data": {
      "text/plain": [
       "RandomizedSearchCV(cv=[(array([   0,    1, ..., 6368, 6369]), array([ 6370,  6371, ..., 12731, 12732])), (array([    0,     1, ..., 12731, 12732]), array([12733, 12734, ..., 19094, 19095])), (array([    0,     1, ..., 19094, 19095]), array([19096, 19097, ..., 25457, 25458])), (array([    0,     1, ..., 25457, 25458]),...635, 63636])), (array([    0,     1, ..., 63635, 63636]), array([63637, 63638, ..., 69998, 69999]))],\n",
       "          error_score='raise',\n",
       "          estimator=LogisticRegression(C=1.0, class_weight=None, dual=False, fit_intercept=True,\n",
       "          intercept_scaling=1, max_iter=100, multi_class='ovr', n_jobs=1,\n",
       "          penalty='l2', random_state=None, solver='liblinear', tol=0.0001,\n",
       "          verbose=0, warm_start=False),\n",
       "          fit_params=None, iid=True, n_iter=1, n_jobs=1,\n",
       "          param_distributions={'C': <scipy.stats._distn_infrastructure.rv_frozen object at 0x7fccbb5f36d8>},\n",
       "          pre_dispatch='2*n_jobs', random_state=None, refit=True,\n",
       "          return_train_score='warn', scoring=None, verbose=0)"
      ]
     },
     "execution_count": 30,
     "metadata": {
      "tags": []
     },
     "output_type": "execute_result"
    }
   ],
   "source": [
    "from sklearn.model_selection import RandomizedSearchCV\n",
    "from scipy import stats\n",
    "\n",
    "\n",
    "my_cv = [(train,test) for train, test in TimeSeriesSplit(n_splits=10).split(X_train2)]\n",
    "\n",
    "param_grid  = {\"C\": stats.uniform(0.001, 10)}\n",
    "             \n",
    "\n",
    "grid =  RandomizedSearchCV(LogisticRegression(), param_grid, cv=my_cv, n_iter = 10)\n",
    "grid.fit(X_train2, y_train)"
   ]
  },
  {
   "cell_type": "code",
   "execution_count": 0,
   "metadata": {
    "colab": {
     "autoexec": {
      "startup": false,
      "wait_interval": 0
     },
     "base_uri": "https://localhost:8080/",
     "height": 51
    },
    "colab_type": "code",
    "executionInfo": {
     "elapsed": 816,
     "status": "ok",
     "timestamp": 1529130170528,
     "user": {
      "displayName": "K V",
      "photoUrl": "https://lh3.googleusercontent.com/a/default-user=s128",
      "userId": "115566673853168956239"
     },
     "user_tz": -330
    },
    "id": "_or3t61Yz4K-",
    "outputId": "c3ddfbff-bdd1-4527-d1fa-454a9d43e616"
   },
   "outputs": [
    {
     "name": "stdout",
     "output_type": "stream",
     "text": [
      "Best cross-validation score: 0.857\n",
      "Best parameters:  {'C': 1.9773164474979121}\n"
     ]
    }
   ],
   "source": [
    "print(\"Best cross-validation score: {:.3f}\".format(grid.best_score_))\n",
    "print(\"Best parameters: \", grid.best_params_)"
   ]
  },
  {
   "cell_type": "code",
   "execution_count": 0,
   "metadata": {
    "colab": {
     "autoexec": {
      "startup": false,
      "wait_interval": 0
     },
     "base_uri": "https://localhost:8080/",
     "height": 51
    },
    "colab_type": "code",
    "executionInfo": {
     "elapsed": 36539,
     "status": "ok",
     "timestamp": 1529130239326,
     "user": {
      "displayName": "K V",
      "photoUrl": "https://lh3.googleusercontent.com/a/default-user=s128",
      "userId": "115566673853168956239"
     },
     "user_tz": -330
    },
    "id": "RxImrqEDzMfZ",
    "outputId": "c85d3df8-270a-40fc-88fb-6698b02b022b"
   },
   "outputs": [
    {
     "name": "stdout",
     "output_type": "stream",
     "text": [
      "Training set score: 1.000\n",
      "Test set score: 0.864\n"
     ]
    }
   ],
   "source": [
    "logreg = LogisticRegression(C = 10.0).fit(X_train2, y_train)\n",
    "\n",
    "\n",
    "print(\"Training set score: {:.3f}\".format(logreg.score(X_train2, y_train)))\n",
    "print(\"Test set score: {:.3f}\".format(logreg.score(X_test2, y_test)))"
   ]
  },
  {
   "cell_type": "markdown",
   "metadata": {
    "colab_type": "text",
    "id": "lR4YS2w-X_pg"
   },
   "source": [
    "# Generating Confusion matrix"
   ]
  },
  {
   "cell_type": "code",
   "execution_count": 0,
   "metadata": {
    "colab": {
     "autoexec": {
      "startup": false,
      "wait_interval": 0
     }
    },
    "colab_type": "code",
    "collapsed": true,
    "id": "wDbw9wzzzRl0"
   },
   "outputs": [],
   "source": [
    "y_pred = logreg.predict(X_test2)\n",
    "\n",
    "log_cfm = confusion_matrix(y_test, y_pred)"
   ]
  },
  {
   "cell_type": "code",
   "execution_count": 0,
   "metadata": {
    "colab": {
     "autoexec": {
      "startup": false,
      "wait_interval": 0
     },
     "base_uri": "https://localhost:8080/",
     "height": 376
    },
    "colab_type": "code",
    "executionInfo": {
     "elapsed": 1123,
     "status": "ok",
     "timestamp": 1529130254742,
     "user": {
      "displayName": "K V",
      "photoUrl": "https://lh3.googleusercontent.com/a/default-user=s128",
      "userId": "115566673853168956239"
     },
     "user_tz": -330
    },
    "id": "amldbqcFzZt6",
    "outputId": "aba834a8-2250-42f8-e1ae-c1c9bb57e31f"
   },
   "outputs": [
    {
     "data": {
      "image/png": "[encoded data removed]",
      "text/plain": [
       "<matplotlib.figure.Figure at 0x7fccbb5f2668>"
      ]
     },
     "metadata": {
      "tags": []
     },
     "output_type": "display_data"
    }
   ],
   "source": [
    "import itertools    \n",
    "\n",
    "plt.imshow(log_cfm, interpolation='nearest')\n",
    "\n",
    "for i, j in itertools.product(range(log_cfm.shape[0]), range(log_cfm.shape[1])):\n",
    "    plt.text(j, i, log_cfm[i, j],\n",
    "             horizontalalignment=\"center\",\n",
    "             color=\"red\")\n",
    "\n",
    "plt.ylabel('True label (Recall)')\n",
    "plt.xlabel('Predicted label (Precision)')\n",
    "plt.title('Logistic Reg | Confusion Matrix')\n",
    "plt.colorbar();"
   ]
  },
  {
   "cell_type": "code",
   "execution_count": 0,
   "metadata": {
    "colab": {
     "autoexec": {
      "startup": false,
      "wait_interval": 0
     },
     "base_uri": "https://localhost:8080/",
     "height": 357
    },
    "colab_type": "code",
    "executionInfo": {
     "elapsed": 67103,
     "status": "ok",
     "timestamp": 1529130330220,
     "user": {
      "displayName": "K V",
      "photoUrl": "https://lh3.googleusercontent.com/a/default-user=s128",
      "userId": "115566673853168956239"
     },
     "user_tz": -330
    },
    "id": "BeBtF-fvzlGc",
    "outputId": "b87c3ff5-f8f4-4200-fff2-2764e60953db"
   },
   "outputs": [
    {
     "name": "stdout",
     "output_type": "stream",
     "text": [
      "C=0.001\n",
      "Sparsity with L1 penalty: 99.992%\n",
      "score with L1 penalty: 0.8777\n",
      "Sparsity with L2 penalty: 0.000%\n",
      "score with L2 penalty: 1.0000\n",
      "C=0.010\n",
      "Sparsity with L1 penalty: 97.911%\n",
      "score with L1 penalty: 0.9996\n",
      "Sparsity with L2 penalty: 0.000%\n",
      "score with L2 penalty: 1.0000\n",
      "C=0.100\n",
      "Sparsity with L1 penalty: 94.378%\n",
      "score with L1 penalty: 1.0000\n",
      "Sparsity with L2 penalty: 0.000%\n",
      "score with L2 penalty: 1.0000\n",
      "C=1.000\n",
      "Sparsity with L1 penalty: 85.909%\n",
      "score with L1 penalty: 1.0000\n",
      "Sparsity with L2 penalty: 0.000%\n",
      "score with L2 penalty: 1.0000\n"
     ]
    }
   ],
   "source": [
    "for i, C in enumerate((0.001, 0.01, 0.1, 1)):\n",
    "    # turn down tolerance for short training time\n",
    "    clf_l1_LR = LogisticRegression(C=C, penalty='l1', tol=0.01)\n",
    "    clf_l2_LR = LogisticRegression(C=C, penalty='l2', tol=0.01)\n",
    "    clf_l1_LR.fit(X_train2, y_train)\n",
    "    clf_l2_LR.fit(X_train2, y_train)\n",
    "\n",
    "    coef_l1_LR = clf_l1_LR.coef_.ravel()\n",
    "    coef_l2_LR = clf_l2_LR.coef_.ravel()\n",
    "\n",
    "    # coef_l1_LR contains zeros due to the\n",
    "    # L1 sparsity inducing norm\n",
    "\n",
    "    sparsity_l1_LR = np.mean(coef_l1_LR == 0) * 100\n",
    "    sparsity_l2_LR = np.mean(coef_l2_LR == 0) * 100\n",
    "\n",
    "    print(\"C=%.3f\" % C)\n",
    "    print(\"Sparsity with L1 penalty: %.3f%%\" % sparsity_l1_LR)\n",
    "    print(\"score with L1 penalty: %.4f\" % clf_l1_LR.score(X_train2, y_train))\n",
    "    print(\"Sparsity with L2 penalty: %.3f%%\" % sparsity_l2_LR)\n",
    "    print(\"score with L2 penalty: %.4f\" % clf_l2_LR.score(X_train2, y_train))\n",
    "\n"
   ]
  },
  {
   "cell_type": "markdown",
   "metadata": {
    "colab_type": "text",
    "id": "hiVJzaqqYMCi"
   },
   "source": [
    "|| Hyper-parameter| Sparsity | Score |\n",
    "|---| --- | --- | --- |\n",
    "|L1-regularizer| 0.001 | 99.9 % |0.87 |\n",
    "|L2-regularizer| 0.001 | 0 % | 1.0 |\n",
    "| --- | --- | --- | --- |\n",
    "|L1-regularizer| 0.01 | 97.9% |0.99 |\n",
    "|L2-regularizer| 0.01 | 0 % | 1.0 |\n",
    "| --- | --- | --- | --- |\n",
    "|L1-regularizer| 0.1 | 94.3% | 1.0|\n",
    "|L2-regularizer| 0.1 | 0 % | 1.0 |\n",
    "| --- | --- | --- | --- |\n",
    "|L1-regularizer| 1.0 | 85.9% | 1.0 |\n",
    "|L2-regularizer| 1.0 | 0 % | 1.0 |\n"
   ]
  },
  {
   "cell_type": "markdown",
   "metadata": {
    "colab_type": "text",
    "id": "lQ785k6wGY-K"
   },
   "source": [
    "# Word2Vec Vectorization"
   ]
  },
  {
   "cell_type": "code",
   "execution_count": 5,
   "metadata": {
    "colab": {
     "autoexec": {
      "startup": false,
      "wait_interval": 0
     },
     "base_uri": "https://localhost:8080/",
     "height": 122
    },
    "colab_type": "code",
    "executionInfo": {
     "elapsed": 1078,
     "status": "ok",
     "timestamp": 1529131838937,
     "user": {
      "displayName": "K V",
      "photoUrl": "https://lh3.googleusercontent.com/a/default-user=s128",
      "userId": "115566673853168956239"
     },
     "user_tz": -330
    },
    "id": "GUtO1VfpGTAP",
    "outputId": "ec8fb339-1c9f-4450-a007-35d9f134650d"
   },
   "outputs": [
    {
     "name": "stdout",
     "output_type": "stream",
     "text": [
      "[nltk_data] Downloading package stopwords to /content/nltk_data...\n",
      "[nltk_data]   Package stopwords is already up-to-date!\n",
      "{\"that'll\", 'his', 've', 'we', 'how', 'about', 'some', 'didn', 'an', 'for', 'y', 'down', \"couldn't\", 'in', 'he', 'can', 'me', 'isn', 'couldn', \"mustn't\", 'needn', 'my', 'few', 'so', 'was', 'than', 'having', 'very', 'o', 're', 'here', 'being', \"won't\", \"doesn't\", 'she', 'your', \"she's\", 'is', 'which', 'same', 'weren', 'there', 't', 'but', 'itself', 'up', 'nor', 'whom', 'until', 'between', 'doesn', 'yourselves', \"you'd\", 'ours', 'yours', 'only', 'more', 'any', 'hasn', 'll', \"didn't\", \"wasn't\", 'that', 'won', \"don't\", 'doing', 'above', 'these', 'those', 'all', 'd', 'a', \"wouldn't\", 'will', 'shan', 'why', \"you're\", 'after', 'myself', 'with', 's', 'too', 'now', 'they', 'should', 'mustn', \"aren't\", 'hers', 'each', 'because', 'i', 'm', 'during', 'shouldn', 'our', 'did', 'when', 'haven', 'by', 'further', \"shouldn't\", 'just', \"hadn't\", 'below', 'over', 'him', 'ma', 'if', 'ain', 'hadn', \"it's\", 'such', 'most', 'again', 'and', 'to', 'himself', 'have', 'not', \"isn't\", 'wouldn', \"hasn't\", 'does', 'am', 'before', \"needn't\", 'don', 'been', 'were', 'own', 'mightn', 'this', 'or', 'from', \"haven't\", 'against', 'it', 'of', 'other', \"you'll\", \"should've\", \"weren't\", 'once', 'on', 'had', 'has', 'where', 'do', 'her', 'be', 'wasn', 'what', 'yourself', 'them', 'ourselves', 'off', 'theirs', 'as', 'who', 'you', 'no', 'then', 'aren', 'herself', 'themselves', 'their', 'both', 'into', 'are', 'while', 'through', \"you've\", 'its', 'out', 'at', \"mightn't\", 'under', \"shan't\", 'the'}\n",
      "************************************\n",
      "tasti\n"
     ]
    }
   ],
   "source": [
    "import nltk\n",
    "nltk.download('stopwords')\n",
    "import re\n",
    "# Tutorial about Python regular expressions: https://pymotw.com/2/re/\n",
    "import string\n",
    "from nltk.corpus import stopwords\n",
    "from nltk.stem import PorterStemmer\n",
    "from nltk.stem.wordnet import WordNetLemmatizer\n",
    "\n",
    "stop = set(stopwords.words('english')) #set of stopwords\n",
    "sno = nltk.stem.SnowballStemmer('english') #initialising the snowball stemmer\n",
    "\n",
    "def cleanhtml(sentence): #function to clean the word of any html-tags\n",
    "    cleanr = re.compile('<.*?>')\n",
    "    cleantext = re.sub(cleanr, ' ', sentence)\n",
    "    return cleantext\n",
    "def cleanpunc(sentence): #function to clean the word of any punctuation or special characters\n",
    "    cleaned = re.sub(r'[?|!|\\'|\"|#]',r'',sentence)\n",
    "    cleaned = re.sub(r'[.|,|)|(|\\|/]',r' ',cleaned)\n",
    "    return  cleaned\n",
    "print(stop)\n",
    "print('************************************')\n",
    "print(sno.stem('tasty'))"
   ]
  },
  {
   "cell_type": "markdown",
   "metadata": {
    "colab_type": "text",
    "id": "peOStlDaY6E9"
   },
   "source": [
    "##  ***Training Word2Vec model using own text corpus***\n"
   ]
  },
  {
   "cell_type": "code",
   "execution_count": 0,
   "metadata": {
    "colab": {
     "autoexec": {
      "startup": false,
      "wait_interval": 0
     }
    },
    "colab_type": "code",
    "collapsed": true,
    "id": "GKIks0l3Gs_y"
   },
   "outputs": [],
   "source": [
    "import gensim\n",
    "i=0\n",
    "train_sent=[]\n",
    "for sent in X_train:\n",
    "    filtered_sentence=[]\n",
    "    sent=cleanhtml(sent)\n",
    "    for w in sent.split():\n",
    "        for cleaned_words in cleanpunc(w).split():\n",
    "            if(cleaned_words.isalpha()):    \n",
    "                filtered_sentence.append(cleaned_words.lower())\n",
    "            else:\n",
    "                continue \n",
    "    train_sent.append(filtered_sentence)\n",
    "    "
   ]
  },
  {
   "cell_type": "code",
   "execution_count": 0,
   "metadata": {
    "colab": {
     "autoexec": {
      "startup": false,
      "wait_interval": 0
     }
    },
    "colab_type": "code",
    "collapsed": true,
    "id": "P78IVMMKJLOp"
   },
   "outputs": [],
   "source": [
    "\n",
    "test_sent=[]\n",
    "for sent in X_test:\n",
    "    filtered_sentence=[]\n",
    "    sent=cleanhtml(sent)\n",
    "    for w in sent.split():\n",
    "        for cleaned_words in cleanpunc(w).split():\n",
    "            if(cleaned_words.isalpha()):    \n",
    "                filtered_sentence.append(cleaned_words.lower())\n",
    "            else:\n",
    "                continue \n",
    "    test_sent.append(filtered_sentence)"
   ]
  },
  {
   "cell_type": "code",
   "execution_count": 0,
   "metadata": {
    "colab": {
     "autoexec": {
      "startup": false,
      "wait_interval": 0
     }
    },
    "colab_type": "code",
    "collapsed": true,
    "id": "eYQsZYeVG3vk"
   },
   "outputs": [],
   "source": [
    "from gensim.models import Word2Vec\n",
    "from gensim.models import KeyedVectors\n",
    "\n",
    "w2v_model=gensim.models.Word2Vec(train_sent,min_count=5,size=50, workers=4)    \n"
   ]
  },
  {
   "cell_type": "markdown",
   "metadata": {
    "colab_type": "text",
    "id": "xbOzoeniZDV8"
   },
   "source": [
    "# Applying Average Word2vec"
   ]
  },
  {
   "cell_type": "code",
   "execution_count": 0,
   "metadata": {
    "colab": {
     "autoexec": {
      "startup": false,
      "wait_interval": 0
     },
     "base_uri": "https://localhost:8080/",
     "height": 51
    },
    "colab_type": "code",
    "executionInfo": {
     "elapsed": 12267,
     "status": "ok",
     "timestamp": 1529130596020,
     "user": {
      "displayName": "K V",
      "photoUrl": "https://lh3.googleusercontent.com/a/default-user=s128",
      "userId": "115566673853168956239"
     },
     "user_tz": -330
    },
    "id": "u9ZW3Le6HL12",
    "outputId": "ee803e7d-5700-4ba3-ba83-3d0ddcae5dca"
   },
   "outputs": [
    {
     "name": "stdout",
     "output_type": "stream",
     "text": [
      "70000\n",
      "50\n"
     ]
    }
   ],
   "source": [
    "#AVG-W2V\n",
    "sent_vectors = []; # the avg-w2v for each sentence/review is stored in this list\n",
    "for sent in train_sent: # for each review/sentence\n",
    "    sent_vec = np.zeros(50) # as word vectors are of zero length\n",
    "    cnt_words =0; # num of words with a valid vector in the sentence/review\n",
    "    for word in sent: # for each word in a review/sentence\n",
    "        try:\n",
    "            vec = w2v_model.wv[word]\n",
    "            sent_vec += vec\n",
    "            cnt_words += 1\n",
    "        except:\n",
    "            pass\n",
    "    sent_vec /= cnt_words\n",
    "    sent_vectors.append(sent_vec)\n",
    "print(len(sent_vectors))\n",
    "print(len(sent_vectors[0]))"
   ]
  },
  {
   "cell_type": "code",
   "execution_count": 0,
   "metadata": {
    "colab": {
     "autoexec": {
      "startup": false,
      "wait_interval": 0
     },
     "base_uri": "https://localhost:8080/",
     "height": 51
    },
    "colab_type": "code",
    "executionInfo": {
     "elapsed": 5718,
     "status": "ok",
     "timestamp": 1529130623630,
     "user": {
      "displayName": "K V",
      "photoUrl": "https://lh3.googleusercontent.com/a/default-user=s128",
      "userId": "115566673853168956239"
     },
     "user_tz": -330
    },
    "id": "Q3ZAp49SHU_4",
    "outputId": "516f5d6d-8f55-44d2-e6a6-2f21420d0454"
   },
   "outputs": [
    {
     "name": "stdout",
     "output_type": "stream",
     "text": [
      "30000\n",
      "50\n"
     ]
    }
   ],
   "source": [
    "#AVG-W2V\n",
    "sent_vectors2 = []; # the avg-w2v for each sentence/review is stored in this list\n",
    "for sent in test_sent: # for each review/sentence\n",
    "    sent_vec = np.zeros(50) # as word vectors are of zero length\n",
    "    cnt_words =0; # num of words with a valid vector in the sentence/review\n",
    "    for word in sent: # for each word in a review/sentence\n",
    "        try:\n",
    "            vec = w2v_model.wv[word]\n",
    "            sent_vec += vec\n",
    "            cnt_words += 1\n",
    "        except:\n",
    "            pass\n",
    "    sent_vec /= cnt_words\n",
    "    sent_vectors2.append(sent_vec)\n",
    "print(len(sent_vectors2))\n",
    "print(len(sent_vectors2[0]))"
   ]
  },
  {
   "cell_type": "code",
   "execution_count": 0,
   "metadata": {
    "colab": {
     "autoexec": {
      "startup": false,
      "wait_interval": 0
     }
    },
    "colab_type": "code",
    "collapsed": true,
    "id": "yhp6q15tHrAw"
   },
   "outputs": [],
   "source": [
    "#Standardization\n",
    "from sklearn.preprocessing import StandardScaler\n",
    "sc= StandardScaler(with_mean=False) \n",
    "X_train3 = sc.fit_transform(sent_vectors)\n",
    "X_test3 = sc.transform(sent_vectors2)"
   ]
  },
  {
   "cell_type": "markdown",
   "metadata": {
    "colab_type": "text",
    "id": "OoNuLY1wZOHm"
   },
   "source": [
    "# Applying GridSearch CV"
   ]
  },
  {
   "cell_type": "code",
   "execution_count": 0,
   "metadata": {
    "colab": {
     "autoexec": {
      "startup": false,
      "wait_interval": 0
     },
     "base_uri": "https://localhost:8080/",
     "height": 207
    },
    "colab_type": "code",
    "executionInfo": {
     "elapsed": 41211,
     "status": "ok",
     "timestamp": 1529130684293,
     "user": {
      "displayName": "K V",
      "photoUrl": "https://lh3.googleusercontent.com/a/default-user=s128",
      "userId": "115566673853168956239"
     },
     "user_tz": -330
    },
    "id": "1Zyrfr5mKzbo",
    "outputId": "31085b12-960e-42ad-e57e-a1d60154fa75"
   },
   "outputs": [
    {
     "data": {
      "text/plain": [
       "GridSearchCV(cv=[(array([   0,    1, ..., 6368, 6369]), array([ 6370,  6371, ..., 12731, 12732])), (array([    0,     1, ..., 12731, 12732]), array([12733, 12734, ..., 19094, 19095])), (array([    0,     1, ..., 19094, 19095]), array([19096, 19097, ..., 25457, 25458])), (array([    0,     1, ..., 25457, 25458]),...635, 63636])), (array([    0,     1, ..., 63635, 63636]), array([63637, 63638, ..., 69998, 69999]))],\n",
       "       error_score='raise',\n",
       "       estimator=LogisticRegression(C=1.0, class_weight=None, dual=False, fit_intercept=True,\n",
       "          intercept_scaling=1, max_iter=100, multi_class='ovr', n_jobs=1,\n",
       "          penalty='l2', random_state=None, solver='liblinear', tol=0.0001,\n",
       "          verbose=0, warm_start=False),\n",
       "       fit_params=None, iid=True, n_jobs=1,\n",
       "       param_grid={'C': [0.001, 0.01, 0.1, 1, 10]},\n",
       "       pre_dispatch='2*n_jobs', refit=True, return_train_score='warn',\n",
       "       scoring=None, verbose=0)"
      ]
     },
     "execution_count": 49,
     "metadata": {
      "tags": []
     },
     "output_type": "execute_result"
    }
   ],
   "source": [
    "my_cv = [(train,test) for train, test in TimeSeriesSplit(n_splits=10).split(X_train3)]\n",
    "\n",
    "param_grid  = {'C': [0.001, 0.01, 0.1, 1, 10]}\n",
    "\n",
    "grid = GridSearchCV(LogisticRegression(), param_grid, cv=my_cv)\n",
    "grid.fit(X_train3, y_train)"
   ]
  },
  {
   "cell_type": "code",
   "execution_count": 0,
   "metadata": {
    "colab": {
     "autoexec": {
      "startup": false,
      "wait_interval": 0
     },
     "base_uri": "https://localhost:8080/",
     "height": 51
    },
    "colab_type": "code",
    "executionInfo": {
     "elapsed": 1121,
     "status": "ok",
     "timestamp": 1529130708431,
     "user": {
      "displayName": "K V",
      "photoUrl": "https://lh3.googleusercontent.com/a/default-user=s128",
      "userId": "115566673853168956239"
     },
     "user_tz": -330
    },
    "id": "4_m8ukPxMX-M",
    "outputId": "49085ae9-59a3-4043-b42b-8c09712f8301"
   },
   "outputs": [
    {
     "name": "stdout",
     "output_type": "stream",
     "text": [
      "Best cross-validation score: 0.887\n",
      "Best parameters:  {'C': 0.1}\n"
     ]
    }
   ],
   "source": [
    "print(\"Best cross-validation score: {:.3f}\".format(grid.best_score_))\n",
    "print(\"Best parameters: \", grid.best_params_)"
   ]
  },
  {
   "cell_type": "markdown",
   "metadata": {
    "colab_type": "text",
    "id": "XoE9CBQkZSf8"
   },
   "source": [
    "# Applying Randomized CV"
   ]
  },
  {
   "cell_type": "code",
   "execution_count": 0,
   "metadata": {
    "colab": {
     "autoexec": {
      "startup": false,
      "wait_interval": 0
     },
     "base_uri": "https://localhost:8080/",
     "height": 207
    },
    "colab_type": "code",
    "executionInfo": {
     "elapsed": 10485,
     "status": "ok",
     "timestamp": 1529130728858,
     "user": {
      "displayName": "K V",
      "photoUrl": "https://lh3.googleusercontent.com/a/default-user=s128",
      "userId": "115566673853168956239"
     },
     "user_tz": -330
    },
    "id": "4EUDd_llMr2I",
    "outputId": "7327ed88-abf0-4eea-ce64-93f67f63a278"
   },
   "outputs": [
    {
     "data": {
      "text/plain": [
       "RandomizedSearchCV(cv=[(array([   0,    1, ..., 6368, 6369]), array([ 6370,  6371, ..., 12731, 12732])), (array([    0,     1, ..., 12731, 12732]), array([12733, 12734, ..., 19094, 19095])), (array([    0,     1, ..., 19094, 19095]), array([19096, 19097, ..., 25457, 25458])), (array([    0,     1, ..., 25457, 25458]),...635, 63636])), (array([    0,     1, ..., 63635, 63636]), array([63637, 63638, ..., 69998, 69999]))],\n",
       "          error_score='raise',\n",
       "          estimator=LogisticRegression(C=1.0, class_weight=None, dual=False, fit_intercept=True,\n",
       "          intercept_scaling=1, max_iter=100, multi_class='ovr', n_jobs=1,\n",
       "          penalty='l2', random_state=None, solver='liblinear', tol=0.0001,\n",
       "          verbose=0, warm_start=False),\n",
       "          fit_params=None, iid=True, n_iter=1, n_jobs=1,\n",
       "          param_distributions={'C': <scipy.stats._distn_infrastructure.rv_frozen object at 0x7fcca9f49160>},\n",
       "          pre_dispatch='2*n_jobs', random_state=None, refit=True,\n",
       "          return_train_score='warn', scoring=None, verbose=0)"
      ]
     },
     "execution_count": 51,
     "metadata": {
      "tags": []
     },
     "output_type": "execute_result"
    }
   ],
   "source": [
    "from sklearn.model_selection import RandomizedSearchCV\n",
    "from scipy import stats\n",
    "\n",
    "\n",
    "my_cv = [(train,test) for train, test in TimeSeriesSplit(n_splits=10).split(X_train3)]\n",
    "\n",
    "param_grid  = {\"C\": stats.uniform(0.001, 10)}\n",
    "             \n",
    "\n",
    "grid =  RandomizedSearchCV(LogisticRegression(), param_grid, cv=my_cv, n_iter = 10)\n",
    "grid.fit(X_train3, y_train)"
   ]
  },
  {
   "cell_type": "code",
   "execution_count": 0,
   "metadata": {
    "colab": {
     "autoexec": {
      "startup": false,
      "wait_interval": 0
     },
     "base_uri": "https://localhost:8080/",
     "height": 51
    },
    "colab_type": "code",
    "executionInfo": {
     "elapsed": 816,
     "status": "ok",
     "timestamp": 1529130740466,
     "user": {
      "displayName": "K V",
      "photoUrl": "https://lh3.googleusercontent.com/a/default-user=s128",
      "userId": "115566673853168956239"
     },
     "user_tz": -330
    },
    "id": "oEBO-TYeMwRr",
    "outputId": "ebb306a3-2eb7-4dfa-efcb-bad1bfa34d1b"
   },
   "outputs": [
    {
     "name": "stdout",
     "output_type": "stream",
     "text": [
      "Best cross-validation score: 0.887\n",
      "Best parameters:  {'C': 5.16712437106295}\n"
     ]
    }
   ],
   "source": [
    "print(\"Best cross-validation score: {:.3f}\".format(grid.best_score_))\n",
    "print(\"Best parameters: \", grid.best_params_)"
   ]
  },
  {
   "cell_type": "code",
   "execution_count": 0,
   "metadata": {
    "colab": {
     "autoexec": {
      "startup": false,
      "wait_interval": 0
     },
     "base_uri": "https://localhost:8080/",
     "height": 51
    },
    "colab_type": "code",
    "executionInfo": {
     "elapsed": 2758,
     "status": "ok",
     "timestamp": 1529130756607,
     "user": {
      "displayName": "K V",
      "photoUrl": "https://lh3.googleusercontent.com/a/default-user=s128",
      "userId": "115566673853168956239"
     },
     "user_tz": -330
    },
    "id": "O7r47u7SM2XR",
    "outputId": "fe4f2132-fe1b-4db6-be86-0c3813715854"
   },
   "outputs": [
    {
     "name": "stdout",
     "output_type": "stream",
     "text": [
      "Training set score: 0.891\n",
      "Test set score: 0.877\n"
     ]
    }
   ],
   "source": [
    "logreg = LogisticRegression(C = 0.1).fit(X_train3, y_train)\n",
    "\n",
    "\n",
    "print(\"Training set score: {:.3f}\".format(logreg.score(X_train3, y_train)))\n",
    "print(\"Test set score: {:.3f}\".format(logreg.score(X_test3, y_test)))"
   ]
  },
  {
   "cell_type": "markdown",
   "metadata": {
    "colab_type": "text",
    "id": "R0l3S3jJZWoA"
   },
   "source": [
    "# Generating Confusion matrix"
   ]
  },
  {
   "cell_type": "code",
   "execution_count": 0,
   "metadata": {
    "colab": {
     "autoexec": {
      "startup": false,
      "wait_interval": 0
     }
    },
    "colab_type": "code",
    "collapsed": true,
    "id": "ZOyhbYXqNC4G"
   },
   "outputs": [],
   "source": [
    "y_pred = logreg.predict(X_test3)\n",
    "\n",
    "log_cfm = confusion_matrix(y_test, y_pred)"
   ]
  },
  {
   "cell_type": "code",
   "execution_count": 0,
   "metadata": {
    "colab": {
     "autoexec": {
      "startup": false,
      "wait_interval": 0
     },
     "base_uri": "https://localhost:8080/",
     "height": 376
    },
    "colab_type": "code",
    "executionInfo": {
     "elapsed": 1230,
     "status": "ok",
     "timestamp": 1529130767243,
     "user": {
      "displayName": "K V",
      "photoUrl": "https://lh3.googleusercontent.com/a/default-user=s128",
      "userId": "115566673853168956239"
     },
     "user_tz": -330
    },
    "id": "nB5fFuW0NV2I",
    "outputId": "bb6bcbc9-504d-4cdf-b994-f7ef0b8ae91a"
   },
   "outputs": [
    {
     "data": {
      "image/png": "[encoded data removed]",
      "text/plain": [
       "<matplotlib.figure.Figure at 0x7fcca9ce7860>"
      ]
     },
     "metadata": {
      "tags": []
     },
     "output_type": "display_data"
    }
   ],
   "source": [
    "import itertools    \n",
    "\n",
    "plt.imshow(log_cfm, interpolation='nearest')\n",
    "\n",
    "for i, j in itertools.product(range(log_cfm.shape[0]), range(log_cfm.shape[1])):\n",
    "    plt.text(j, i, log_cfm[i, j],\n",
    "             horizontalalignment=\"center\",\n",
    "             color=\"red\")\n",
    "\n",
    "plt.ylabel('True label (Recall)')\n",
    "plt.xlabel('Predicted label (Precision)')\n",
    "plt.title('Logistic Reg | Confusion Matrix')\n",
    "plt.colorbar();"
   ]
  },
  {
   "cell_type": "code",
   "execution_count": 0,
   "metadata": {
    "colab": {
     "autoexec": {
      "startup": false,
      "wait_interval": 0
     },
     "base_uri": "https://localhost:8080/",
     "height": 357
    },
    "colab_type": "code",
    "executionInfo": {
     "elapsed": 8639,
     "status": "ok",
     "timestamp": 1529130781843,
     "user": {
      "displayName": "K V",
      "photoUrl": "https://lh3.googleusercontent.com/a/default-user=s128",
      "userId": "115566673853168956239"
     },
     "user_tz": -330
    },
    "id": "kUe0oSMjNeDW",
    "outputId": "7fc47515-42ee-4708-8ad0-b1e1ef4d19bd"
   },
   "outputs": [
    {
     "name": "stdout",
     "output_type": "stream",
     "text": [
      "C=0.001\n",
      "Sparsity with L1 penalty: 60.000%\n",
      "score with L1 penalty: 0.8749\n",
      "Sparsity with L2 penalty: 0.000%\n",
      "score with L2 penalty: 0.8885\n",
      "C=0.010\n",
      "Sparsity with L1 penalty: 14.000%\n",
      "score with L1 penalty: 0.8900\n",
      "Sparsity with L2 penalty: 0.000%\n",
      "score with L2 penalty: 0.8911\n",
      "C=0.100\n",
      "Sparsity with L1 penalty: 0.000%\n",
      "score with L1 penalty: 0.8910\n",
      "Sparsity with L2 penalty: 0.000%\n",
      "score with L2 penalty: 0.8913\n",
      "C=1.000\n",
      "Sparsity with L1 penalty: 0.000%\n",
      "score with L1 penalty: 0.8909\n",
      "Sparsity with L2 penalty: 0.000%\n",
      "score with L2 penalty: 0.8913\n"
     ]
    }
   ],
   "source": [
    "for i, C in enumerate((0.001, 0.01, 0.1, 1)):\n",
    "    # turn down tolerance for short training time\n",
    "    clf_l1_LR = LogisticRegression(C=C, penalty='l1', tol=0.01)\n",
    "    clf_l2_LR = LogisticRegression(C=C, penalty='l2', tol=0.01)\n",
    "    clf_l1_LR.fit(X_train3, y_train)\n",
    "    clf_l2_LR.fit(X_train3, y_train)\n",
    "\n",
    "    coef_l1_LR = clf_l1_LR.coef_.ravel()\n",
    "    coef_l2_LR = clf_l2_LR.coef_.ravel()\n",
    "\n",
    "    # coef_l1_LR contains zeros due to the\n",
    "    # L1 sparsity inducing norm\n",
    "\n",
    "    sparsity_l1_LR = np.mean(coef_l1_LR == 0) * 100\n",
    "    sparsity_l2_LR = np.mean(coef_l2_LR == 0) * 100\n",
    "\n",
    "    print(\"C=%.3f\" % C)\n",
    "    print(\"Sparsity with L1 penalty: %.3f%%\" % sparsity_l1_LR)\n",
    "    print(\"score with L1 penalty: %.4f\" % clf_l1_LR.score(X_train3, y_train))\n",
    "    print(\"Sparsity with L2 penalty: %.3f%%\" % sparsity_l2_LR)\n",
    "    print(\"score with L2 penalty: %.4f\" % clf_l2_LR.score(X_train3, y_train))\n",
    "\n"
   ]
  },
  {
   "cell_type": "markdown",
   "metadata": {
    "colab_type": "text",
    "id": "GaAAb6etZiEF"
   },
   "source": [
    "|| Hyper-parameter| Sparsity | Score |\n",
    "|---| --- | --- | --- |\n",
    "|L1-regularizer| 0.001 | 60 % |0 .87 |\n",
    "|L2-regularizer| 0.001 | 0 % | 0.88 |\n",
    "| --- | --- | --- | --- |\n",
    "|L1-regularizer| 0.01 | 14 % | 0.89 |\n",
    "|L2-regularizer| 0.01 | 0 % | 0.89|\n",
    "| --- | --- | --- | --- |\n",
    "|L1-regularizer| 0.1 | 0 % | 0.89|\n",
    "|L2-regularizer| 0.1 | 0 % | 0.89 |\n",
    "| --- | --- | --- | --- |\n",
    "|L1-regularizer| 1.0 | 0% | 0.89 |\n",
    "|L2-regularizer| 1.0 | 0 % | 0.89 |\n"
   ]
  },
  {
   "cell_type": "markdown",
   "metadata": {
    "colab_type": "text",
    "id": "ke2l0-qXNrDy"
   },
   "source": [
    "# Word2Vec Tf-idf Vectorization"
   ]
  },
  {
   "cell_type": "code",
   "execution_count": 0,
   "metadata": {
    "colab": {
     "autoexec": {
      "startup": false,
      "wait_interval": 0
     }
    },
    "colab_type": "code",
    "collapsed": true,
    "id": "dkC-2vkcNpxI"
   },
   "outputs": [],
   "source": [
    "#TF-IDF\n",
    "\n",
    "tf_idf_vect = TfidfVectorizer()\n",
    "final_tf_idf = tf_idf_vect.fit_transform(X_train)\n",
    "tfidf_feat = tf_idf_vect.get_feature_names()\n",
    " # tfidf words/col-names\n",
    "# final_tf_idf is the sparse matrix with row= sentence, col=word and cell_val = tfidf\n",
    "\n",
    "train_vectors = []; # the tfidf-w2v for each sentence/review is stored in this list\n",
    "row=0;\n",
    "for sent in train_sent: # for each review/sentence\n",
    "    sent_vec = np.zeros(50) # as word vectors are of zero length\n",
    "    weight_sum = 0; # num of words with a valid vector in the sentence/review\n",
    "    for word in sent: # for each word in a review/sentence\n",
    "        try:\n",
    "            vec = w2v_model.wv[word]\n",
    "            # obtain the tf_idf of a word in a sentence/review\n",
    "            tfidf = final_tf_idf[row, tfidf_feat.index(word)]\n",
    "            sent_vec += (vec * tfidf)\n",
    "            weight_sum += tfidf\n",
    "            \n",
    "            \n",
    "        except:\n",
    "            pass\n",
    "\n",
    "    sent_vec /= weight_sum\n",
    "    #print(np.isnan(np.sum(sent_vec)))\n",
    "\n",
    "    train_vectors.append(sent_vec)\n",
    "    row += 1"
   ]
  },
  {
   "cell_type": "code",
   "execution_count": 0,
   "metadata": {
    "colab": {
     "autoexec": {
      "startup": false,
      "wait_interval": 0
     }
    },
    "colab_type": "code",
    "collapsed": true,
    "id": "-ozi6tTfN3VL"
   },
   "outputs": [],
   "source": [
    "#TF-IDF\n",
    "\n",
    "tf_idf_vect = TfidfVectorizer()\n",
    "final_tf_idf = tf_idf_vect.fit_transform(X_test)\n",
    "tfidf_feat = tf_idf_vect.get_feature_names()\n",
    " # tfidf words/col-names\n",
    "# final_tf_idf is the sparse matrix with row= sentence, col=word and cell_val = tfidf\n",
    "\n",
    "test_vectors = []; # the tfidf-w2v for each sentence/review is stored in this list\n",
    "row=0;\n",
    "for sent in test_sent: # for each review/sentence\n",
    "    sent_vec = np.zeros(50) # as word vectors are of zero length\n",
    "    weight_sum = 0; # num of words with a valid vector in the sentence/review\n",
    "    for word in sent: # for each word in a review/sentence\n",
    "        try:\n",
    "            vec = w2v_model.wv[word]\n",
    "            # obtain the tf_idf of a word in a sentence/review\n",
    "            tfidf = final_tf_idf[row, tfidf_feat.index(word)]\n",
    "            sent_vec += (vec * tfidf)\n",
    "            weight_sum += tfidf\n",
    "            \n",
    "            \n",
    "        except:\n",
    "            pass\n",
    "\n",
    "    sent_vec /= weight_sum\n",
    "    #print(np.isnan(np.sum(sent_vec)))\n",
    "\n",
    "    test_vectors.append(sent_vec)\n",
    "    row += 1"
   ]
  },
  {
   "cell_type": "code",
   "execution_count": 0,
   "metadata": {
    "colab": {
     "autoexec": {
      "startup": false,
      "wait_interval": 0
     }
    },
    "colab_type": "code",
    "collapsed": true,
    "id": "f-fyqel2eHC6"
   },
   "outputs": [],
   "source": [
    "#Standardization\n",
    "from sklearn.preprocessing import StandardScaler\n",
    "sc= StandardScaler(with_mean=False) \n",
    "X_train4 = sc.fit_transform(train_vectors)\n",
    "X_test4 = sc.transform(test_vectors)"
   ]
  },
  {
   "cell_type": "markdown",
   "metadata": {
    "colab_type": "text",
    "id": "nBM02OwOaMP5"
   },
   "source": [
    "# Applying GridSearch CV"
   ]
  },
  {
   "cell_type": "code",
   "execution_count": 16,
   "metadata": {
    "colab": {
     "autoexec": {
      "startup": false,
      "wait_interval": 0
     },
     "base_uri": "https://localhost:8080/",
     "height": 207
    },
    "colab_type": "code",
    "executionInfo": {
     "elapsed": 5965,
     "status": "ok",
     "timestamp": 1529132035281,
     "user": {
      "displayName": "K V",
      "photoUrl": "https://lh3.googleusercontent.com/a/default-user=s128",
      "userId": "115566673853168956239"
     },
     "user_tz": -330
    },
    "id": "xSMK6D4JhPWz",
    "outputId": "64e047f4-8873-473e-daa0-f5ed1836b761"
   },
   "outputs": [
    {
     "data": {
      "text/plain": [
       "GridSearchCV(cv=[(array([  0,   1, ..., 638, 639]), array([ 640,  641, ..., 1274, 1275])), (array([   0,    1, ..., 1274, 1275]), array([1276, 1277, ..., 1910, 1911])), (array([   0,    1, ..., 1910, 1911]), array([1912, 1913, ..., 2546, 2547])), (array([   0,    1, ..., 2546, 2547]), array([2548, 2549, ..., 318...9, ..., 6362, 6363])), (array([   0,    1, ..., 6362, 6363]), array([6364, 6365, ..., 6998, 6999]))],\n",
       "       error_score='raise',\n",
       "       estimator=LogisticRegression(C=1.0, class_weight=None, dual=False, fit_intercept=True,\n",
       "          intercept_scaling=1, max_iter=100, multi_class='ovr', n_jobs=1,\n",
       "          penalty='l2', random_state=None, solver='liblinear', tol=0.0001,\n",
       "          verbose=0, warm_start=False),\n",
       "       fit_params=None, iid=True, n_jobs=1,\n",
       "       param_grid={'C': [0.001, 0.01, 0.1, 1, 10]},\n",
       "       pre_dispatch='2*n_jobs', refit=True, return_train_score='warn',\n",
       "       scoring=None, verbose=0)"
      ]
     },
     "execution_count": 16,
     "metadata": {
      "tags": []
     },
     "output_type": "execute_result"
    }
   ],
   "source": [
    "my_cv = [(train,test) for train, test in TimeSeriesSplit(n_splits=10).split(X_train4)]\n",
    "\n",
    "param_grid  = {'C': [0.001, 0.01, 0.1, 1, 10]}\n",
    "\n",
    "grid = GridSearchCV(LogisticRegression(), param_grid, cv=my_cv)\n",
    "grid.fit(X_train4, y_train)"
   ]
  },
  {
   "cell_type": "code",
   "execution_count": 17,
   "metadata": {
    "colab": {
     "autoexec": {
      "startup": false,
      "wait_interval": 0
     },
     "base_uri": "https://localhost:8080/",
     "height": 51
    },
    "colab_type": "code",
    "executionInfo": {
     "elapsed": 1404,
     "status": "ok",
     "timestamp": 1529132038994,
     "user": {
      "displayName": "K V",
      "photoUrl": "https://lh3.googleusercontent.com/a/default-user=s128",
      "userId": "115566673853168956239"
     },
     "user_tz": -330
    },
    "id": "ZdQEw8-KhS0H",
    "outputId": "d3c77c8e-cbf8-4b7a-88a5-be6dcf1b8796"
   },
   "outputs": [
    {
     "name": "stdout",
     "output_type": "stream",
     "text": [
      "Best cross-validation score: 0.850\n",
      "Best parameters:  {'C': 10}\n"
     ]
    }
   ],
   "source": [
    "print(\"Best cross-validation score: {:.3f}\".format(grid.best_score_))\n",
    "print(\"Best parameters: \", grid.best_params_)"
   ]
  },
  {
   "cell_type": "markdown",
   "metadata": {
    "colab_type": "text",
    "id": "enms1HBoaQBL"
   },
   "source": [
    "# Applying RandomizedSearch CV"
   ]
  },
  {
   "cell_type": "code",
   "execution_count": 18,
   "metadata": {
    "colab": {
     "autoexec": {
      "startup": false,
      "wait_interval": 0
     },
     "base_uri": "https://localhost:8080/",
     "height": 207
    },
    "colab_type": "code",
    "executionInfo": {
     "elapsed": 3048,
     "status": "ok",
     "timestamp": 1529132049742,
     "user": {
      "displayName": "K V",
      "photoUrl": "https://lh3.googleusercontent.com/a/default-user=s128",
      "userId": "115566673853168956239"
     },
     "user_tz": -330
    },
    "id": "eNaCyu6hhcM1",
    "outputId": "61c9abc4-8574-482b-fbef-49ba21e67ede"
   },
   "outputs": [
    {
     "data": {
      "text/plain": [
       "RandomizedSearchCV(cv=[(array([  0,   1, ..., 638, 639]), array([ 640,  641, ..., 1274, 1275])), (array([   0,    1, ..., 1274, 1275]), array([1276, 1277, ..., 1910, 1911])), (array([   0,    1, ..., 1910, 1911]), array([1912, 1913, ..., 2546, 2547])), (array([   0,    1, ..., 2546, 2547]), array([2548, 2549, ..., 318...9, ..., 6362, 6363])), (array([   0,    1, ..., 6362, 6363]), array([6364, 6365, ..., 6998, 6999]))],\n",
       "          error_score='raise',\n",
       "          estimator=LogisticRegression(C=1.0, class_weight=None, dual=False, fit_intercept=True,\n",
       "          intercept_scaling=1, max_iter=100, multi_class='ovr', n_jobs=1,\n",
       "          penalty='l2', random_state=None, solver='liblinear', tol=0.0001,\n",
       "          verbose=0, warm_start=False),\n",
       "          fit_params=None, iid=True, n_iter=1, n_jobs=1,\n",
       "          param_distributions={'C': <scipy.stats._distn_infrastructure.rv_frozen object at 0x7efc5f20ef60>},\n",
       "          pre_dispatch='2*n_jobs', random_state=None, refit=True,\n",
       "          return_train_score='warn', scoring=None, verbose=0)"
      ]
     },
     "execution_count": 18,
     "metadata": {
      "tags": []
     },
     "output_type": "execute_result"
    }
   ],
   "source": [
    "from sklearn.model_selection import RandomizedSearchCV\n",
    "from scipy import stats\n",
    "\n",
    "\n",
    "my_cv = [(train,test) for train, test in TimeSeriesSplit(n_splits=10).split(X_train4)]\n",
    "\n",
    "param_grid  = {\"C\": stats.uniform(0.001, 10)}\n",
    "             \n",
    "\n",
    "grid =  RandomizedSearchCV(LogisticRegression(), param_grid, cv=my_cv, n_iter = 10)\n",
    "grid.fit(X_train4, y_train)"
   ]
  },
  {
   "cell_type": "code",
   "execution_count": 19,
   "metadata": {
    "colab": {
     "autoexec": {
      "startup": false,
      "wait_interval": 0
     },
     "base_uri": "https://localhost:8080/",
     "height": 51
    },
    "colab_type": "code",
    "executionInfo": {
     "elapsed": 1194,
     "status": "ok",
     "timestamp": 1529132054709,
     "user": {
      "displayName": "K V",
      "photoUrl": "https://lh3.googleusercontent.com/a/default-user=s128",
      "userId": "115566673853168956239"
     },
     "user_tz": -330
    },
    "id": "QHK2pkv2hfpP",
    "outputId": "0c2f8f0f-8bbd-40f7-93f1-4fe5aae87baa"
   },
   "outputs": [
    {
     "name": "stdout",
     "output_type": "stream",
     "text": [
      "Best cross-validation score: 0.850\n",
      "Best parameters:  {'C': 9.080485889967418}\n"
     ]
    }
   ],
   "source": [
    "print(\"Best cross-validation score: {:.3f}\".format(grid.best_score_))\n",
    "print(\"Best parameters: \", grid.best_params_)"
   ]
  },
  {
   "cell_type": "code",
   "execution_count": 20,
   "metadata": {
    "colab": {
     "autoexec": {
      "startup": false,
      "wait_interval": 0
     },
     "base_uri": "https://localhost:8080/",
     "height": 51
    },
    "colab_type": "code",
    "executionInfo": {
     "elapsed": 1467,
     "status": "ok",
     "timestamp": 1529132064598,
     "user": {
      "displayName": "K V",
      "photoUrl": "https://lh3.googleusercontent.com/a/default-user=s128",
      "userId": "115566673853168956239"
     },
     "user_tz": -330
    },
    "id": "8xKBlUFShti5",
    "outputId": "9b3ba6c4-6103-4880-8036-55cf2099c17a"
   },
   "outputs": [
    {
     "name": "stdout",
     "output_type": "stream",
     "text": [
      "Training set score: 0.858\n",
      "Test set score: 0.825\n"
     ]
    }
   ],
   "source": [
    "logreg = LogisticRegression(C = 10).fit(X_train4, y_train)\n",
    "\n",
    "\n",
    "print(\"Training set score: {:.3f}\".format(logreg.score(X_train4, y_train)))\n",
    "print(\"Test set score: {:.3f}\".format(logreg.score(X_test4, y_test)))"
   ]
  },
  {
   "cell_type": "markdown",
   "metadata": {
    "colab_type": "text",
    "id": "crC_-pQkaUxL"
   },
   "source": [
    "# Generating Confusion matrix"
   ]
  },
  {
   "cell_type": "code",
   "execution_count": 0,
   "metadata": {
    "colab": {
     "autoexec": {
      "startup": false,
      "wait_interval": 0
     }
    },
    "colab_type": "code",
    "collapsed": true,
    "id": "swujSsHoh9Fn"
   },
   "outputs": [],
   "source": [
    "y_pred = logreg.predict(X_test4)\n",
    "\n",
    "log_cfm = confusion_matrix(y_test, y_pred)"
   ]
  },
  {
   "cell_type": "code",
   "execution_count": 22,
   "metadata": {
    "colab": {
     "autoexec": {
      "startup": false,
      "wait_interval": 0
     },
     "base_uri": "https://localhost:8080/",
     "height": 376
    },
    "colab_type": "code",
    "executionInfo": {
     "elapsed": 1515,
     "status": "ok",
     "timestamp": 1529132078011,
     "user": {
      "displayName": "K V",
      "photoUrl": "https://lh3.googleusercontent.com/a/default-user=s128",
      "userId": "115566673853168956239"
     },
     "user_tz": -330
    },
    "id": "J0mpoWTRiJOC",
    "outputId": "7ba0e4d2-a19d-4674-f875-5a82e44f657d"
   },
   "outputs": [
    {
     "data": {
      "image/png": "[encoded data removed]",
      "text/plain": [
       "<matplotlib.figure.Figure at 0x7efc5f213748>"
      ]
     },
     "metadata": {
      "tags": []
     },
     "output_type": "display_data"
    }
   ],
   "source": [
    "import itertools    \n",
    "\n",
    "plt.imshow(log_cfm, interpolation='nearest')\n",
    "\n",
    "for i, j in itertools.product(range(log_cfm.shape[0]), range(log_cfm.shape[1])):\n",
    "    plt.text(j, i, log_cfm[i, j],\n",
    "             horizontalalignment=\"center\",\n",
    "             color=\"red\")\n",
    "\n",
    "plt.ylabel('True label (Recall)')\n",
    "plt.xlabel('Predicted label (Precision)')\n",
    "plt.title('Logistic Reg | Confusion Matrix')\n",
    "plt.colorbar();"
   ]
  },
  {
   "cell_type": "code",
   "execution_count": 23,
   "metadata": {
    "colab": {
     "autoexec": {
      "startup": false,
      "wait_interval": 0
     },
     "base_uri": "https://localhost:8080/",
     "height": 442
    },
    "colab_type": "code",
    "executionInfo": {
     "elapsed": 2227,
     "status": "ok",
     "timestamp": 1529132085672,
     "user": {
      "displayName": "K V",
      "photoUrl": "https://lh3.googleusercontent.com/a/default-user=s128",
      "userId": "115566673853168956239"
     },
     "user_tz": -330
    },
    "id": "UKvUXdGbiQzB",
    "outputId": "2a9bb83c-09b7-47e3-f999-232655cc90ee"
   },
   "outputs": [
    {
     "name": "stdout",
     "output_type": "stream",
     "text": [
      "C=0.001\n",
      "Sparsity with L1 penalty: 90.000%\n",
      "score with L1 penalty: 0.8514\n",
      "Sparsity with L2 penalty: 0.000%\n",
      "score with L2 penalty: 0.8516\n",
      "C=0.010\n",
      "Sparsity with L1 penalty: 80.000%\n",
      "score with L1 penalty: 0.8514\n",
      "Sparsity with L2 penalty: 0.000%\n",
      "score with L2 penalty: 0.8514\n",
      "C=0.100\n",
      "Sparsity with L1 penalty: 28.000%\n",
      "score with L1 penalty: 0.8519\n",
      "Sparsity with L2 penalty: 0.000%\n",
      "score with L2 penalty: 0.8520\n",
      "C=1.000\n",
      "Sparsity with L1 penalty: 0.000%\n",
      "score with L1 penalty: 0.8516\n",
      "Sparsity with L2 penalty: 0.000%\n",
      "score with L2 penalty: 0.8531\n",
      "C=10.000\n",
      "Sparsity with L1 penalty: 0.000%\n",
      "score with L1 penalty: 0.8521\n",
      "Sparsity with L2 penalty: 0.000%\n",
      "score with L2 penalty: 0.8577\n"
     ]
    }
   ],
   "source": [
    "for i, C in enumerate((0.001, 0.01, 0.1, 1,10.0)):\n",
    "    # turn down tolerance for short training time\n",
    "    clf_l1_LR = LogisticRegression(C=C, penalty='l1', tol=0.01)\n",
    "    clf_l2_LR = LogisticRegression(C=C, penalty='l2', tol=0.01)\n",
    "    clf_l1_LR.fit(X_train4, y_train)\n",
    "    clf_l2_LR.fit(X_train4, y_train)\n",
    "\n",
    "    coef_l1_LR = clf_l1_LR.coef_.ravel()\n",
    "    coef_l2_LR = clf_l2_LR.coef_.ravel()\n",
    "\n",
    "    # coef_l1_LR contains zeros due to the\n",
    "    # L1 sparsity inducing norm\n",
    "\n",
    "    sparsity_l1_LR = np.mean(coef_l1_LR == 0) * 100\n",
    "    sparsity_l2_LR = np.mean(coef_l2_LR == 0) * 100\n",
    "\n",
    "    print(\"C=%.3f\" % C)\n",
    "    print(\"Sparsity with L1 penalty: %.3f%%\" % sparsity_l1_LR)\n",
    "    print(\"score with L1 penalty: %.4f\" % clf_l1_LR.score(X_train4, y_train))\n",
    "    print(\"Sparsity with L2 penalty: %.3f%%\" % sparsity_l2_LR)\n",
    "    print(\"score with L2 penalty: %.4f\" % clf_l2_LR.score(X_train4, y_train))\n",
    "\n"
   ]
  },
  {
   "cell_type": "markdown",
   "metadata": {
    "colab_type": "text",
    "id": "7h-FQ4zSab1b"
   },
   "source": [
    "|| Hyper-parameter| Sparsity | Score |\n",
    "|---| --- | --- | --- |\n",
    "|L1-regularizer| 0.001 | 90% |0 .85 |\n",
    "|L2-regularizer| 0.001 | 0 % | 0.85 |\n",
    "| --- | --- | --- | --- |\n",
    "|L1-regularizer| 0.01 | 80% |0 .85 |\n",
    "|L2-regularizer| 0.01 | 0 % | 0.85 |\n",
    "| --- | --- | --- | --- |\n",
    "|L1-regularizer| 0.1 | 28 % | 0.85 |\n",
    "|L2-regularizer| 0.1 | 0 % | 0.85|\n",
    "| --- | --- | --- | --- |\n",
    "|L1-regularizer| 1.0| 0% | 0.85|\n",
    "|L2-regularizer| 1.0 | 0 % | 0.85 |\n",
    "| --- | --- | --- | --- |\n",
    "|L1-regularizer| 10.0| 0% | 0.85|\n",
    "|L2-regularizer| 10.0 | 0% | 0.85 |\n"
   ]
  },
  {
   "cell_type": "markdown",
   "metadata": {
    "colab_type": "text",
    "id": "GYO6BAY4efsk"
   },
   "source": [
    "# Conclusion\n",
    "## The most important words are:\n",
    "- ## **tast**\n",
    "- ## **like**\n",
    "- ## **product**"
   ]
  },
  {
   "cell_type": "markdown",
   "metadata": {
    "colab_type": "text",
    "id": "N3IQPWbbbP83"
   },
   "source": [
    "## Bag of Words:\n",
    "- ### GridSearch CV\n",
    " - Best Parameter C = 0.001\n",
    " - CV Score = 0.854\n",
    "\n",
    "- ### RandomizedSearch CV\n",
    " - Best Parameter C = 0.54\n",
    " - CV Score = 0.796\n",
    "\n",
    "- ## Test set score = 0.90\n",
    "- ## Train set score = 0.97"
   ]
  },
  {
   "cell_type": "markdown",
   "metadata": {
    "colab_type": "text",
    "id": "CJvzmcBsdxZn"
   },
   "source": [
    "## Tf-IDF:\n",
    "- ### GridSearch CV\n",
    " - Best Parameter C = 0.001\n",
    " - CV Score = 0.824\n",
    "\n",
    "- ### RandomizedSearch CV\n",
    " - Best Parameter C = 1.79\n",
    " - CV Score = 0.823\n",
    "\n",
    "- ## Test set score = 0.86\n",
    "- ## Train set score = 1.0"
   ]
  },
  {
   "cell_type": "markdown",
   "metadata": {
    "colab_type": "text",
    "id": "0VerFX-eeBjy"
   },
   "source": [
    "## Average Word2vec:\n",
    "- ### GridSearch CV\n",
    " - Best Parameter C = 0.001\n",
    " - CV Score = 0.832\n",
    "\n",
    "- ### RandomizedSearch CV\n",
    " - Best Parameter C = 4.27\n",
    " - CV Score = 0.831\n",
    "\n",
    "- ## Test set score = 0.87\n",
    "- ## Train set score = 0.89"
   ]
  },
  {
   "cell_type": "markdown",
   "metadata": {
    "colab_type": "text",
    "id": "XkH7ZxTveP1f"
   },
   "source": [
    "## Word2vec-tfidf:\n",
    "- ### GridSearch CV\n",
    " - Best Parameter C = 10.0\n",
    " - CV Score = 0.738\n",
    "\n",
    "- ### RandomizedSearch CV\n",
    " - Best Parameter C = 8.42\n",
    " - CV Score = 0.737\n",
    "\n",
    "- ## Test set score = 0.82\n",
    "- ## Train set score = 0.85"
   ]
  },
  {
   "cell_type": "code",
   "execution_count": 0,
   "metadata": {
    "colab": {
     "autoexec": {
      "startup": false,
      "wait_interval": 0
     }
    },
    "colab_type": "code",
    "collapsed": true,
    "id": "jimmFr3peds2"
   },
   "outputs": [],
   "source": []
  }
 ],
 "metadata": {
  "accelerator": "GPU",
  "colab": {
   "collapsed_sections": [],
   "default_view": {},
   "name": "LR-AmazonReviews.ipynb",
   "provenance": [],
   "version": "0.3.2",
   "views": {}
  },
  "kernelspec": {
   "display_name": "Python 3",
   "language": "python",
   "name": "python3"
  },
  "language_info": {
   "codemirror_mode": {
    "name": "ipython",
    "version": 3
   },
   "file_extension": ".py",
   "mimetype": "text/x-python",
   "name": "python",
   "nbconvert_exporter": "python",
   "pygments_lexer": "ipython3",
   "version": "3.6.3"
  }
 },
 "nbformat": 4,
 "nbformat_minor": 1
}
